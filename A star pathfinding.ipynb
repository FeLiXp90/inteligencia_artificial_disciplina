{
 "cells": [
  {
   "cell_type": "markdown",
   "metadata": {},
   "source": [
    "## Atividade desenvolvida para a disciplina de Inteligência Artificial"
   ]
  },
  {
   "cell_type": "markdown",
   "metadata": {},
   "source": [
    "### O Algoritmo A*"
   ]
  },
  {
   "cell_type": "markdown",
   "metadata": {},
   "source": [
    "Algoritmo A* (Lê-se: A-estrela) é um algoritmo para Busca de Caminho. Ele busca o caminho em um grafo de um nó inicial até um nó final. É a combinação de aproximações heurísticas como do algoritmo Breadth First Search (Busca em Largura) e da formalidade do Algoritmo de Dijkstra. Foi descrito pela primeira vez em 1968 por Peter Hart, Nils Nilsson, e Bertram Raphael. Na publicação deles, foi chamado de algoritmo A. \n",
    "\n",
    "Usando este algoritmo com uma heurística apropriada atinge-se um comportamento ótimo, e passou a ser conhecido por A*. Sua aplicação vai desde aplicativos para encontrar rotas de deslocamento entre localidades a resolução de problemas, como a resolução de um quebra-cabeças.\n",
    "\n",
    "O algoritmo A* avalia os nós através da combinação de g(n) que é o custo para alcançar cada nó com a função h(n) que é o menor custo partindo da origem para se chegar ao destino, matematicamente dado na equação:\n"
   ]
  },
  {
   "cell_type": "markdown",
   "metadata": {},
   "source": [
    "\n",
    "                                                f(n) = g(n) + h(n)"
   ]
  },
  {
   "cell_type": "markdown",
   "metadata": {},
   "source": [
    "* g(n): é o custo do movimento para se mover do nó de início até o nó determinado no grafo seguindo o caminho criado para chegar lá.\n",
    "\n",
    "* h(n): é o custo estimado do movimento para mover daquele nó determinado até o destino final, o objetivo.\n",
    "\n",
    "* f(n): é o custo estimado da solução de custo mais baixo passando por n."
   ]
  },
  {
   "cell_type": "markdown",
   "metadata": {},
   "source": [
    "-----------------"
   ]
  },
  {
   "cell_type": "markdown",
   "metadata": {},
   "source": [
    "### Problema proposto"
   ]
  },
  {
   "cell_type": "markdown",
   "metadata": {},
   "source": [
    "Foi nos dado como atividade implementar o algoritmo A* para resolver o seguinte problema:\n",
    "<br>Dado um mapa com obstáculos, o algoritmo deve traçar o caminho menos custoso de um ponto A a um ponto B. \n",
    "\n",
    "Como recurso temos: \n",
    "\n",
    "* Um mapa em arquivo txt composto por 0 e 1, onde 0 representa um caminho livre e o 1 representa um obstáculo;\n",
    "* Um ponto de partida que chamaremos de A;\n",
    "* Um ponto de fim ou objetivo que chamaremos de B.\n",
    "\n",
    "\n",
    "As especificações para resolução foram:\n",
    "\n",
    "* Permitir o uso de mapas diferentes;\n",
    "* Leitura do ponto de partida e de chegada;\n",
    "* Implementar uma heuristica para conhecer o menor custo para o caminho;\n",
    "* Só é permitido realizar rotas em linha reta ou de 90°;\n",
    "* Ao final, mostrar um mapa com o desenho da trajetória e a lista das coordenadas a serem percorridas."
   ]
  },
  {
   "attachments": {},
   "cell_type": "markdown",
   "metadata": {},
   "source": [
    "<img src=\"https://github.com/helenfranca/Inteligencia_Artificial_Disciplina/tree/master/Imagem/Capturar.PNG\" title=\"A* pathfinding\" width=\"200\" />\n"
   ]
  },
  {
   "cell_type": "markdown",
   "metadata": {},
   "source": [
    "Legenda: \n",
    "* Quadrado vermelho: Ponto de partida\n",
    "* Quadrado verde: Ponto de chegada\n",
    "* Quadrado preto: Obstáculo"
   ]
  },
  {
   "cell_type": "markdown",
   "metadata": {},
   "source": [
    "_______\n"
   ]
  },
  {
   "cell_type": "markdown",
   "metadata": {},
   "source": [
    "### Resolução"
   ]
  },
  {
   "cell_type": "markdown",
   "metadata": {},
   "source": [
    "### Detalhamento das funções"
   ]
  },
  {
   "cell_type": "markdown",
   "metadata": {},
   "source": [
    "#### Monta o mapa conforme no arquivo informado"
   ]
  },
  {
   "cell_type": "code",
   "execution_count": 170,
   "metadata": {},
   "outputs": [],
   "source": [
    "def montaMapa(nomedoarquivo):\n",
    "    arquivo= pd.read_csv(nomedoarquivo+\".txt\")\n",
    "\n",
    "    mapa = []\n",
    "    for linha in arquivo[arquivo.columns[0]]:\n",
    "        b = []\n",
    "        for elem in linha:\n",
    "            if elem != ' ':\n",
    "                b.append(int(elem))\n",
    "        mapa.append(b)\n",
    "    return mapa"
   ]
  },
  {
   "cell_type": "markdown",
   "metadata": {},
   "source": [
    "\n",
    "\n",
    "#### Classe do objeto nó"
   ]
  },
  {
   "cell_type": "code",
   "execution_count": 171,
   "metadata": {},
   "outputs": [],
   "source": [
    "class Node():\n",
    "\n",
    "    def __init__(self, pai=None, posicao=None):\n",
    "        self.pai = pai\n",
    "        self.posicao = posicao\n",
    "\n",
    "        self.g = 0\n",
    "        self.h = 0\n",
    "        self.f = 0\n",
    "\n",
    "    def __eq__(self, outro):\n",
    "        return self.posicao == outro.posicao\n"
   ]
  },
  {
   "cell_type": "markdown",
   "metadata": {},
   "source": [
    "#### Heuristica baseada na função distância de Manhattan (calculo literal da distância do nó atual e o nó destino - desconsiderando os obstáculos)"
   ]
  },
  {
   "cell_type": "code",
   "execution_count": 172,
   "metadata": {},
   "outputs": [],
   "source": [
    "def calcH(vizinhoPos,fimPos):\n",
    "    return ((abs(vizinhoPos[0]-fimPos[0]))+(abs(vizinhoPos[1]-fimPos[1])))\n"
   ]
  },
  {
   "cell_type": "markdown",
   "metadata": {},
   "source": [
    "#### Define os vizinhos \"possiveis\" do nó atual (definido na função buscaMenorF)"
   ]
  },
  {
   "cell_type": "code",
   "execution_count": 173,
   "metadata": {},
   "outputs": [],
   "source": [
    "def defVizinhos(matriz,atual,lstAberta,lstVizinhos,posPossiveis,tamLMatriz,tamCMatriz):\n",
    "    \n",
    "    for item in posPossiveis:\n",
    "        \n",
    "        posEncontrada = (atual.posicao[0]+item[0],atual.posicao[1]+item[1])\n",
    "                \n",
    "        if  ((posEncontrada[0]<tamLMatriz and posEncontrada[0]>=0) and (posEncontrada[1]<tamCMatriz and posEncontrada[1]>=0)):\n",
    "            if(matriz[posEncontrada[0]][posEncontrada[1]] != 1):\n",
    "                lstVizinhos.append(Node(atual, posEncontrada))\n",
    "    return lstVizinhos"
   ]
  },
  {
   "cell_type": "markdown",
   "metadata": {},
   "source": [
    "#### Busca o menor caminho (g+h) até o destino"
   ]
  },
  {
   "cell_type": "code",
   "execution_count": 174,
   "metadata": {},
   "outputs": [],
   "source": [
    "def buscaMenorF(lstAberta):\n",
    "    menorF = lstAberta[0]\n",
    "\n",
    "    for i in range(1, len(lstAberta)):\n",
    "        if (menorF.f > lstAberta[i].f):\n",
    "            menorF = lstAberta[i]\n",
    "\n",
    "    return menorF"
   ]
  },
  {
   "cell_type": "markdown",
   "metadata": {},
   "source": [
    "#### Faz o caminho baseado nos \"pais\" dos nós"
   ]
  },
  {
   "cell_type": "code",
   "execution_count": 297,
   "metadata": {},
   "outputs": [],
   "source": [
    "def caminho(atual, inicio):\n",
    "    caminho = [atual.posicao]\n",
    "    \n",
    "    while atual.posicao != inicio.posicao:\n",
    "        caminho.append(atual.pai.posicao)\n",
    "        atual = atual.pai\n",
    "    return caminho"
   ]
  },
  {
   "cell_type": "markdown",
   "metadata": {},
   "source": [
    "#### Desenha o caminho na matriz"
   ]
  },
  {
   "cell_type": "code",
   "execution_count": 247,
   "metadata": {},
   "outputs": [],
   "source": [
    "def desenhaCaminho(matriz, caminho):\n",
    "    print(caminho)\n",
    "    for item in caminho:\n",
    "        matriz[item[0]][item[1]] = '*'\n",
    "    return matriz"
   ]
  },
  {
   "cell_type": "markdown",
   "metadata": {},
   "source": [
    "#### Imprime a matriz"
   ]
  },
  {
   "cell_type": "code",
   "execution_count": 177,
   "metadata": {},
   "outputs": [],
   "source": [
    "def printaMatriz(matriz):\n",
    "    print()\n",
    "    for i in range(len(matriz)):\n",
    "        for j in range(len(matriz[0])):\n",
    "            print(\" \",matriz[i][j], end= \"\")\n",
    "        print()"
   ]
  },
  {
   "cell_type": "markdown",
   "metadata": {},
   "source": [
    "#### Verifica entrada"
   ]
  },
  {
   "cell_type": "code",
   "execution_count": 373,
   "metadata": {},
   "outputs": [],
   "source": [
    "if (fimPos[0] <0 or fimPos[1]<0 or atualPos[0]<0 or atualPos[1] < 0):\n",
    "    print(\"ERRO! Posição deve conter valores maiores que zero.\")\n",
    "    exit   \n",
    "elif (matriz[fimPos[0]][fimPos[1]] == 1):\n",
    "    print(\"ERRO! Posição final é um obstáculo.\")\n",
    "    exit\n",
    "\n",
    "elif (fimPos == atualPos):\n",
    "    print(\"Posição destino == Posição fim\")\n",
    "    exit\n",
    "elif (matriz[atualPos[0]][atualPos[1]] == 1):\n",
    "    print(\"ERRO! Posição inicial é um obstáculo.\") \n",
    "    exit"
   ]
  },
  {
   "cell_type": "markdown",
   "metadata": {},
   "source": [
    "____"
   ]
  },
  {
   "cell_type": "markdown",
   "metadata": {},
   "source": [
    "### Entradas"
   ]
  },
  {
   "cell_type": "markdown",
   "metadata": {},
   "source": [
    "#### Para inserir um novo mapa\n",
    "* Certifique-se de que o arquivo do mapa que irá utilizar está na mesma pasta do arquivo que contém o algoritmo.\n",
    "* Coloque o arquivo \"nomedoarquivo\".txt entre os parenteses. Ex: matriz = montaMapa('mapa')\n",
    "\n",
    "#### Para informar as coordenadas\n",
    "* Na variável *atualPos* informe o valor. Ex: (0,0)\n",
    "* Na variável *fimPos* informe o valor. Ex: (8,9)"
   ]
  },
  {
   "cell_type": "markdown",
   "metadata": {},
   "source": [
    "### Execução do algoritmo"
   ]
  },
  {
   "cell_type": "code",
   "execution_count": 379,
   "metadata": {},
   "outputs": [
    {
     "name": "stdout",
     "output_type": "stream",
     "text": [
      "\n",
      "*** Resultado ***\n",
      "\n",
      "Ponto de partida: (0, 0)\n",
      "Ponto de chegada: (8, 9)\n",
      "\n",
      " [(0, 0), (1, 0), (2, 0), (3, 0), (4, 0), (4, 1), (4, 2), (4, 3), (4, 4), (4, 5), (5, 5), (6, 5), (7, 5), (8, 5), (8, 6), (8, 7), (8, 8), (8, 9)]\n",
      "\n",
      "  *  0  1  0  0  0  0  0  0  0\n",
      "  *  0  1  0  0  0  0  0  0  0\n",
      "  *  0  1  0  0  0  0  0  0  0\n",
      "  *  0  0  0  0  0  0  1  1  1\n",
      "  *  *  *  *  *  *  0  0  0  0\n",
      "  0  0  0  0  1  *  0  0  0  0\n",
      "  0  0  0  0  1  *  0  1  1  1\n",
      "  0  0  0  0  1  *  0  0  0  0\n",
      "  0  0  0  0  1  *  *  *  *  *\n"
     ]
    }
   ],
   "source": [
    "import time\n",
    "import pandas as pd\n",
    "%config IPCompleter.greedy=True\n",
    "\n",
    "\n",
    "class Node:\n",
    "\n",
    "    def __init__(self, pai, posicao):\n",
    "        self.g = 0\n",
    "        self.h = 0\n",
    "        self.f = 0\n",
    "        self.posicao = posicao\n",
    "\n",
    "        self.pai = pai\n",
    "\n",
    "    def __eq__(self, other):\n",
    "        if other is not Node:\n",
    "            return self.posicao == other\n",
    "        else:\n",
    "            return self.posicao == other.posicao\n",
    "\n",
    "        \n",
    "def calcH(vizinhoPos,fimPos):\n",
    "    return ((abs(vizinhoPos[0]-fimPos[0]))+(abs(vizinhoPos[1]-fimPos[1])))\n",
    "    \n",
    "\n",
    "def defVizinhos(matriz,atual,lstAberta,lstVizinhos,posPossiveis,tamLMatriz,tamCMatriz):\n",
    "    \n",
    "    for item in posPossiveis:\n",
    "        \n",
    "        posEncontrada = (atual.posicao[0]+item[0],atual.posicao[1]+item[1])\n",
    "                \n",
    "        if  ((posEncontrada[0]<tamLMatriz and posEncontrada[0]>=0) and (posEncontrada[1]<tamCMatriz and posEncontrada[1]>=0)):\n",
    "            if(matriz[posEncontrada[0]][posEncontrada[1]] != 1):\n",
    "                lstVizinhos.append(Node(atual, posEncontrada))\n",
    "    return lstVizinhos\n",
    "\n",
    "\n",
    "        \n",
    "def buscaMenorF(lstAberta):\n",
    "    menorF = lstAberta[0]\n",
    "\n",
    "    for i in range(1, len(lstAberta)):\n",
    "        if (menorF.f > lstAberta[i].f):\n",
    "            menorF = lstAberta[i]\n",
    "\n",
    "    return menorF\n",
    "    \n",
    "    \n",
    "def caminho(atual, inicio):\n",
    "    caminho = [atual.posicao]\n",
    "\n",
    "    while atual.posicao != inicio.posicao:\n",
    "        caminho.append(atual.pai.posicao)\n",
    "        atual = atual.pai\n",
    "    return caminho\n",
    "\n",
    "\n",
    "def desenhaCaminho(matriz, caminho):\n",
    "    for item in caminho:\n",
    "        matriz[item[0]][item[1]] = '*'\n",
    "    return matriz\n",
    "\n",
    "\n",
    "def printaMatriz(matriz):\n",
    "    print()\n",
    "    for i in range(len(matriz)):\n",
    "        for j in range(len(matriz[0])):\n",
    "            print(\" \",matriz[i][j], end= \"\")\n",
    "        print()\n",
    "        \n",
    "\n",
    "def montaMapa(nomedoarquivo):\n",
    "    arquivo= pd.read_csv(nomedoarquivo+\".txt\")\n",
    "\n",
    "    mapa = []\n",
    "    for linha in arquivo[arquivo.columns[0]]:\n",
    "        b = []\n",
    "        for elem in linha:\n",
    "            if elem != ' ':\n",
    "                b.append(int(elem))\n",
    "        mapa.append(b)\n",
    "    return mapa\n",
    "\n",
    "    \n",
    "# Entradas\n",
    "atualPos = (0,0)\n",
    "fimPos = (8,9)\n",
    "matriz = montaMapa('mapa')\n",
    "\n",
    "#-----\n",
    "lstAberta = []\n",
    "lstFechada = []\n",
    "lstVizinhos = []\n",
    "posPossiveis = ((-1,0), (1,0), (0,-1), (0, 1))\n",
    "tamLMatriz = len(matriz)\n",
    "tamCMatriz = len(matriz[0])\n",
    "inicio = Node(None, atualPos)\n",
    "fim = Node(None, fimPos)\n",
    " \n",
    "\n",
    "if (fimPos[0] <0 or fimPos[1]<0 or atualPos[0]<0 or atualPos[1] < 0):\n",
    "    print(\"ERRO! Posição deve conter valores maiores que zero.\")\n",
    "    exit   \n",
    "elif (matriz[fimPos[0]][fimPos[1]] == 1):\n",
    "    print(\"ERRO! Posição final é um obstáculo.\")\n",
    "    exit\n",
    "\n",
    "elif (fimPos == atualPos):\n",
    "    print(\"Posição destino == Posição fim\")\n",
    "    exit\n",
    "elif (matriz[atualPos[0]][atualPos[1]] == 1):\n",
    "    print(\"ERRO! Posição inicial é um obstáculo.\") \n",
    "    exit\n",
    "else:\n",
    "\n",
    "    lstAberta.append(inicio)\n",
    "\n",
    "    while(len(lstAberta) > 0):\n",
    "\n",
    "        # Definição do nó atual como sendo o que possui menor distância até o destino    \n",
    "        atual = buscaMenorF(lstAberta)\n",
    "\n",
    "        #Se a posicao do nó atual for igual a posicao do nó destino significa que chegamos ao nó destino\n",
    "        if (atual.posicao == fim.posicao): break\n",
    "\n",
    "\n",
    "        #Adiciona o no atual na lista fechada e remove da lista aberta, afinal ele já foi analisado\n",
    "        lstAberta.remove(atual)\n",
    "        lstFechada.append(atual)\n",
    "\n",
    "\n",
    "        #Definimos os vizinhos \"possíveis\" do nó atual\n",
    "        vizinhos = defVizinhos(matriz,atual,lstAberta,lstVizinhos,posPossiveis,tamLMatriz,tamCMatriz)\n",
    "\n",
    "        #Para cada vizinho possível \n",
    "        for vizinho in vizinhos:\n",
    "\n",
    "            #Verificamos se está na lista fechada, se estiver, passa para o próximo vizinho\n",
    "            if (vizinho in lstFechada): continue\n",
    "\n",
    "            #Se ele não estiver na lstAberta quer dizer que ainda não sabemos os valores do F, portanto calculamos e o \n",
    "            #adicionamos na lstAberta\n",
    "            if (vizinho not in lstAberta):\n",
    "                vizinho.pai = atual\n",
    "                vizinho.g = atual.g + 1\n",
    "                vizinho.h = calcH(vizinho.posicao,fimPos)\n",
    "                vizinho.f = vizinho.g + vizinho.h\n",
    "                lstAberta.append(vizinho)\n",
    "\n",
    "            #Se o vizinho estiver na lstAberta e \"passando pelo nó atual o valor de g do vizinho é menor do que o \n",
    "            #que ele tem agora?\" então recalculamos os valores de g, h e f e mudamos o pai dele para o nó atual\n",
    "            elif (vizinho in lstAberta and ((atual.g+1) < vizinho.g)):\n",
    "                vizinho.g = atual.g+1\n",
    "                vizinho.h = calcH(vizinho.posicao,fimPos)\n",
    "                vizinho.f = vizinho.g + vizinho.h\n",
    "                vizinho.pai = atual\n",
    "\n",
    "\n",
    "    caminho = caminho(atual, inicio)\n",
    "    caminho.reverse()\n",
    "    \n",
    "    print('\\n*** Resultado ***\\n\\nPonto de partida:',atualPos)\n",
    "    print('Ponto de chegada:',fimPos)\n",
    "    print('\\n',caminho)\n",
    "    \n",
    "    printaMatriz(desenhaCaminho(matriz,caminho)) \n",
    "\n",
    "    "
   ]
  }
 ],
 "metadata": {
  "kernelspec": {
   "display_name": "Python 3",
   "language": "python",
   "name": "python3"
  },
  "language_info": {
   "codemirror_mode": {
    "name": "ipython",
    "version": 3
   },
   "file_extension": ".py",
   "mimetype": "text/x-python",
   "name": "python",
   "nbconvert_exporter": "python",
   "pygments_lexer": "ipython3",
   "version": "3.7.3"
  }
 },
 "nbformat": 4,
 "nbformat_minor": 2
}
