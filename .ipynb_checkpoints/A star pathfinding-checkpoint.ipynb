{
 "cells": [
  {
   "cell_type": "markdown",
   "metadata": {},
   "source": [
    "## Atividade desenvolvida para a disciplina de Inteligência Artificial"
   ]
  },
  {
   "cell_type": "markdown",
   "metadata": {},
   "source": [
    "### O Algoritmo A*"
   ]
  },
  {
   "cell_type": "markdown",
   "metadata": {},
   "source": [
    "Algoritmo A* (Lê-se: A-estrela) é um algoritmo para Busca de Caminho. Ele busca o caminho em um grafo de um nó inicial até um nó final. É a combinação de aproximações heurísticas como do algoritmo Breadth First Search (Busca em Largura) e da formalidade do Algoritmo de Dijkstra. Foi descrito pela primeira vez em 1968 por Peter Hart, Nils Nilsson, e Bertram Raphael. Na publicação deles, foi chamado de algoritmo A. \n",
    "\n",
    "Usando este algoritmo com uma heurística apropriada atinge-se um comportamento ótimo, e passou a ser conhecido por A*. Sua aplicação vai desde aplicativos para encontrar rotas de deslocamento entre localidades a resolução de problemas, como a resolução de um quebra-cabeças.\n",
    "\n",
    "O algoritmo A* avalia os nós através da combinação de g(n) que é o custo para alcançar cada nó com a função h(n) que é o menor custo partindo da origem para se chegar ao destino, matematicamente dado na equação:\n"
   ]
  },
  {
   "cell_type": "markdown",
   "metadata": {},
   "source": [
    "\n",
    "                                                f(n) = g(n) + h(n)"
   ]
  },
  {
   "cell_type": "markdown",
   "metadata": {},
   "source": [
    "* g(n): é o custo do movimento para se mover do nó de início até o nó determinado no grafo seguindo o caminho criado para chegar lá.\n",
    "\n",
    "* h(n): é o custo estimado do movimento para mover daquele nó determinado até o destino final, o objetivo.\n",
    "\n",
    "* f(n): é o custo estimado da solução de custo mais baixo passando por n."
   ]
  },
  {
   "cell_type": "markdown",
   "metadata": {},
   "source": [
    "-----------------"
   ]
  },
  {
   "cell_type": "markdown",
   "metadata": {},
   "source": [
    "### Problema proposto"
   ]
  },
  {
   "cell_type": "markdown",
   "metadata": {},
   "source": [
    "Foi nos dado como atividade implementar o algoritmo A* para resolver o seguinte problema:\n",
    "<br>Dado um mapa com obstáculos, o algoritmo deve traçar o caminho menos custoso de um ponto A a um ponto B. \n",
    "\n",
    "Como recurso temos: \n",
    "\n",
    "* Um mapa em arquivo txt composto por 0 e 1, onde 0 representa um caminho livre e o 1 representa um obstáculo;\n",
    "* Um ponto de partida que chamaremos de A;\n",
    "* Um ponto de fim ou objetivo que chamaremos de B.\n",
    "\n",
    "\n",
    "As especificações para resolução foram:\n",
    "\n",
    "* Permitir o uso de mapas diferentes;\n",
    "* Leitura do ponto de partida e de chegada;\n",
    "* Implementar uma heuristica para conhecer o menor custo para o caminho;\n",
    "* Só é permitido realizar rotas em linha reta ou de 90°;\n",
    "* Ao final, mostrar um mapa com o desenho da trajetória e a lista das coordenadas a serem percorridas."
   ]
  },
  {
   "attachments": {},
   "cell_type": "markdown",
   "metadata": {},
   "source": [
    "<img src=\"https://github.com/helenfranca/Inteligencia_Artificial_Disciplina/tree/master/Imagem/Capturar.PNG\" title=\"A* pathfinding\" width=\"200\" />\n"
   ]
  },
  {
   "cell_type": "markdown",
   "metadata": {},
   "source": [
    "Legenda: \n",
    "* Quadrado vermelho: Ponto de partida\n",
    "* Quadrado verde: Ponto de chegada\n",
    "* Quadrado preto: Obstáculo"
   ]
  },
  {
   "cell_type": "markdown",
   "metadata": {},
   "source": [
    "_______\n"
   ]
  },
  {
   "cell_type": "markdown",
   "metadata": {},
   "source": [
    "### Resolução"
   ]
  },
  {
   "cell_type": "markdown",
   "metadata": {},
   "source": [
    "#### Importando as bibliotecas utilizadas"
   ]
  },
  {
   "cell_type": "code",
   "execution_count": 169,
   "metadata": {},
   "outputs": [],
   "source": [
    "import time\n",
    "import pandas as pd\n",
    "\n",
    "%config IPCompleter.greedy=True"
   ]
  },
  {
   "cell_type": "markdown",
   "metadata": {},
   "source": [
    "### Entradas\n",
    "___\n",
    "#### Para inserir um novo mapa\n",
    "* Certifique-se de que o arquivo do mapa que irá utilizar está na mesma pasta do arquivo que contém o algoritmo.\n",
    "* Coloque o arquivo \"nomedoarquivo\".txt entre os parenteses.\n",
    "\n",
    "#### Para informar as coordenadas\n",
    "* Na variável *atualPos* informe o valor. Ex: (0,0)\n",
    "* Na variável *fimPos* informe o valor. Ex: (8,9)"
   ]
  },
  {
   "cell_type": "markdown",
   "metadata": {},
   "source": [
    "#### Monta o mapa conforme no arquivo informado"
   ]
  },
  {
   "cell_type": "code",
   "execution_count": 170,
   "metadata": {},
   "outputs": [],
   "source": [
    "def montaMapa(nomedoarquivo):\n",
    "    arquivo= pd.read_csv(nomedoarquivo+\".txt\")\n",
    "\n",
    "    mapa = []\n",
    "    for linha in arquivo[arquivo.columns[0]]:\n",
    "        b = []\n",
    "        for elem in linha:\n",
    "            if elem != ' ':\n",
    "                b.append(int(elem))\n",
    "        mapa.append(b)\n",
    "    return mapa"
   ]
  },
  {
   "cell_type": "markdown",
   "metadata": {},
   "source": [
    "\n",
    "\n",
    "#### Classe do objeto nó"
   ]
  },
  {
   "cell_type": "code",
   "execution_count": 171,
   "metadata": {},
   "outputs": [],
   "source": [
    "class Node():\n",
    "\n",
    "    def __init__(self, pai=None, posicao=None):\n",
    "        self.pai = pai\n",
    "        self.posicao = posicao\n",
    "\n",
    "        self.g = 0\n",
    "        self.h = 0\n",
    "        self.f = 0\n",
    "\n",
    "    def __eq__(self, outro):\n",
    "        return self.posicao == outro.posicao\n"
   ]
  },
  {
   "cell_type": "markdown",
   "metadata": {},
   "source": [
    "### Funções"
   ]
  },
  {
   "cell_type": "markdown",
   "metadata": {},
   "source": [
    "#### Heuristica baseada na função distância de Manhattan (calculo literal da distância do nó atual e o nó destino - desconsiderando os obstáculos)"
   ]
  },
  {
   "cell_type": "code",
   "execution_count": 172,
   "metadata": {},
   "outputs": [],
   "source": [
    "def calcH(vizinhoPos,fimPos):\n",
    "    return ((abs(vizinhoPos[0]-fimPos[0]))+(abs(vizinhoPos[1]-fimPos[1])))\n"
   ]
  },
  {
   "cell_type": "markdown",
   "metadata": {},
   "source": [
    "#### Define os vizinhos \"possiveis\" do nó atual (definido na função buscaMenorF)"
   ]
  },
  {
   "cell_type": "code",
   "execution_count": 173,
   "metadata": {},
   "outputs": [],
   "source": [
    "def defVizinhos(matriz,atual,lstAberta,lstVizinhos,posPossiveis,tamLMatriz,tamCMatriz):\n",
    "    \n",
    "    for item in posPossiveis:\n",
    "        \n",
    "        posEncontrada = (atual.posicao[0]+item[0],atual.posicao[1]+item[1])\n",
    "                \n",
    "        if  ((posEncontrada[0]<tamLMatriz and posEncontrada[0]>=0) and (posEncontrada[1]<tamCMatriz and posEncontrada[1]>=0)):\n",
    "            if(matriz[posEncontrada[0]][posEncontrada[1]] != 1):\n",
    "                lstVizinhos.append(Node(atual, posEncontrada))\n",
    "    return lstVizinhos"
   ]
  },
  {
   "cell_type": "markdown",
   "metadata": {},
   "source": [
    "#### Busca o menor caminho (g+h) até o destino"
   ]
  },
  {
   "cell_type": "code",
   "execution_count": 174,
   "metadata": {},
   "outputs": [],
   "source": [
    "def buscaMenorF(lstAberta):\n",
    "    menorF = lstAberta[0]\n",
    "\n",
    "    for i in range(1, len(lstAberta)):\n",
    "        if (menorF.f > lstAberta[i].f):\n",
    "            menorF = lstAberta[i]\n",
    "\n",
    "    return menorF"
   ]
  },
  {
   "cell_type": "markdown",
   "metadata": {},
   "source": [
    "#### Faz o caminho baseado nos \"pais\" dos nós"
   ]
  },
  {
   "cell_type": "code",
   "execution_count": 297,
   "metadata": {},
   "outputs": [],
   "source": [
    "def caminho(atual, inicio):\n",
    "    caminho = [atual.posicao]\n",
    "    \n",
    "    while atual.posicao != inicio.posicao:\n",
    "        caminho.append(atual.pai.posicao)\n",
    "        atual = atual.pai\n",
    "    return caminho"
   ]
  },
  {
   "cell_type": "markdown",
   "metadata": {},
   "source": [
    "#### Desenha o caminho na matriz"
   ]
  },
  {
   "cell_type": "code",
   "execution_count": 247,
   "metadata": {},
   "outputs": [],
   "source": [
    "def desenhaCaminho(matriz, caminho):\n",
    "    print(caminho)\n",
    "    for item in caminho:\n",
    "        matriz[item[0]][item[1]] = '*'\n",
    "    return matriz"
   ]
  },
  {
   "cell_type": "markdown",
   "metadata": {},
   "source": [
    "#### Imprime a matriz"
   ]
  },
  {
   "cell_type": "code",
   "execution_count": 177,
   "metadata": {},
   "outputs": [],
   "source": [
    "def printaMatriz(matriz):\n",
    "    print()\n",
    "    for i in range(len(matriz)):\n",
    "        for j in range(len(matriz[0])):\n",
    "            print(\" \",matriz[i][j], end= \"\")\n",
    "        print()"
   ]
  },
  {
   "cell_type": "markdown",
   "metadata": {},
   "source": [
    "#### Verifica entrada"
   ]
  },
  {
   "cell_type": "code",
   "execution_count": 178,
   "metadata": {},
   "outputs": [],
   "source": [
    "def verifica(matriz,atualPos,fimPos):\n",
    "    if (matriz[atualPos[0]][atualPos[1]] == 1):\n",
    "        print(\"ERRO! Posição inicial é um obstáculo.\")\n",
    "\n",
    "    if (matriz[fimPos[0]][fimPos[1]] == 1):\n",
    "        print(\"ERRO! Posição final é um obstáculo.\")\n",
    "\n",
    "    if (fimPos == atualPos):\n",
    "        print(\"Posição destino == Posição fim\")\n",
    "        \n",
    "    if (fimPos[0] or fimPos[1] or atualPos[0] or atualPos[1] < 0):\n",
    "        print(\"ERRO! Posição deve ser maior que zero\")"
   ]
  },
  {
   "cell_type": "markdown",
   "metadata": {},
   "source": [
    "### Execução do algoritmo"
   ]
  },
  {
   "cell_type": "code",
   "execution_count": 299,
   "metadata": {},
   "outputs": [],
   "source": [
    "def aStar(matriz, atualPos, fimPos):\n",
    "    lstAberta = []\n",
    "    lstFechada = []\n",
    "    lstVizinhos = []\n",
    "    posPossiveis = ((-1,0), (1,0), (0,-1), (0, 1))\n",
    "    tamLMatriz = len(matriz)\n",
    "    tamCMatriz = len(matriz[0])\n",
    "    inicio = Node(None, atualPos)\n",
    "    fim = Node(None, fimPos)\n",
    "    caminho = []\n",
    "    \n",
    "    \n",
    "    lstAberta.append(inicio)\n",
    "\n",
    "    while(len(lstAberta) > 0):\n",
    "       \n",
    "        #definição do nó atual como sendo o que possui menor distância até o destino    \n",
    "        atual = buscaMenorF(lstAberta)\n",
    "\n",
    "        #se a posicao do nó atual for igual a posicao do nó destino significa que chegamos ao nó destino\n",
    "        if (atual.posicao == fim.posicao): break\n",
    "\n",
    "\n",
    "        #adiciona o no atual na lista fechada e remove da lista aberta...afinal ele ja foi analisado\n",
    "        lstAberta.remove(atual)\n",
    "        lstFechada.append(atual)\n",
    "\n",
    "\n",
    "        #definimos os vizinhos \"possiveis\" do no atual\n",
    "        vizinhos = defVizinhos(matriz,atual,lstAberta,lstVizinhos,posPossiveis,tamLMatriz,tamCMatriz)\n",
    "\n",
    "        #para cada vizinho possivel \n",
    "        for vizinho in vizinhos:\n",
    "\n",
    "            #verificamos se esta na lista fechada, se estiver, passa para o proximo vizinho\n",
    "            if (vizinho in lstFechada): continue\n",
    "\n",
    "            #se ele nao esta na lstAberta qr dizer que ainda nao sabemos os valores do F, portanto calculamos e o adicionamos na lstAberta\n",
    "            if (vizinho not in lstAberta):\n",
    "                vizinho.pai = atual\n",
    "                vizinho.g = atual.g + 1\n",
    "                vizinho.h = calcH(vizinho.posicao,fimPos)\n",
    "                vizinho.f = vizinho.g + vizinho.h\n",
    "                lstAberta.append(vizinho)\n",
    "\n",
    "            #se o vizinho esta na lstAberta e \"passando pelo nó atual o valor de g do vizinho é menor do que o que ele tem agora?\" entao recalculamos os valores de g,h e f\n",
    "            #e mudamos o pai dele para o nó atual\n",
    "            elif (vizinho in lstAberta and ((atual.g+1) < vizinho.g)):\n",
    "                vizinho.g = atual.g+1\n",
    "                vizinho.h = calcH(vizinho.posicao,fimPos)\n",
    "                vizinho.f = vizinho.g + vizinho.h\n",
    "                vizinho.pai = atual\n",
    "               \n",
    "    caminho = caminho(atual, inicio)\n",
    "    caminho.reverse()\n",
    "  \n",
    "    \n",
    "    return caminho"
   ]
  },
  {
   "cell_type": "code",
   "execution_count": 286,
   "metadata": {},
   "outputs": [
    {
     "ename": "NameError",
     "evalue": "name 'atual' is not defined",
     "output_type": "error",
     "traceback": [
      "\u001b[1;31m---------------------------------------------------------------------------\u001b[0m",
      "\u001b[1;31mNameError\u001b[0m                                 Traceback (most recent call last)",
      "\u001b[1;32m<ipython-input-286-fb060794d22a>\u001b[0m in \u001b[0;36m<module>\u001b[1;34m\u001b[0m\n\u001b[1;32m----> 1\u001b[1;33m \u001b[0mcaminho\u001b[0m \u001b[1;33m=\u001b[0m \u001b[0mcaminho\u001b[0m\u001b[1;33m(\u001b[0m\u001b[0matual\u001b[0m\u001b[1;33m,\u001b[0m \u001b[0minicio\u001b[0m\u001b[1;33m)\u001b[0m\u001b[1;33m\u001b[0m\u001b[1;33m\u001b[0m\u001b[0m\n\u001b[0m\u001b[0;32m      2\u001b[0m \u001b[0mcaminho\u001b[0m\u001b[1;33m.\u001b[0m\u001b[0mreverse\u001b[0m\u001b[1;33m(\u001b[0m\u001b[1;33m)\u001b[0m\u001b[1;33m\u001b[0m\u001b[1;33m\u001b[0m\u001b[0m\n\u001b[0;32m      3\u001b[0m \u001b[0mlstAberta\u001b[0m\u001b[1;33m.\u001b[0m\u001b[0mappend\u001b[0m\u001b[1;33m(\u001b[0m\u001b[0minicio\u001b[0m\u001b[1;33m)\u001b[0m\u001b[1;33m\u001b[0m\u001b[1;33m\u001b[0m\u001b[0m\n",
      "\u001b[1;31mNameError\u001b[0m: name 'atual' is not defined"
     ]
    }
   ],
   "source": []
  },
  {
   "cell_type": "code",
   "execution_count": 281,
   "metadata": {},
   "outputs": [],
   "source": [
    "for pos in a:    \n",
    "    (pos.posicao)"
   ]
  },
  {
   "cell_type": "code",
   "execution_count": 300,
   "metadata": {},
   "outputs": [
    {
     "ename": "TypeError",
     "evalue": "'list' object is not callable",
     "output_type": "error",
     "traceback": [
      "\u001b[1;31m---------------------------------------------------------------------------\u001b[0m",
      "\u001b[1;31mTypeError\u001b[0m                                 Traceback (most recent call last)",
      "\u001b[1;32m<ipython-input-300-ac2551a771bb>\u001b[0m in \u001b[0;36m<module>\u001b[1;34m\u001b[0m\n\u001b[0;32m      1\u001b[0m \u001b[0matualPos\u001b[0m \u001b[1;33m=\u001b[0m \u001b[1;33m(\u001b[0m\u001b[1;36m0\u001b[0m\u001b[1;33m,\u001b[0m\u001b[1;36m0\u001b[0m\u001b[1;33m)\u001b[0m\u001b[1;33m\u001b[0m\u001b[1;33m\u001b[0m\u001b[0m\n\u001b[0;32m      2\u001b[0m \u001b[0mfimPos\u001b[0m \u001b[1;33m=\u001b[0m \u001b[1;33m(\u001b[0m\u001b[1;36m8\u001b[0m\u001b[1;33m,\u001b[0m\u001b[1;36m9\u001b[0m\u001b[1;33m)\u001b[0m\u001b[1;33m\u001b[0m\u001b[1;33m\u001b[0m\u001b[0m\n\u001b[1;32m----> 3\u001b[1;33m \u001b[0ma\u001b[0m \u001b[1;33m=\u001b[0m \u001b[0maStar\u001b[0m\u001b[1;33m(\u001b[0m\u001b[0mmapa\u001b[0m\u001b[1;33m,\u001b[0m\u001b[1;33m(\u001b[0m\u001b[1;36m0\u001b[0m\u001b[1;33m,\u001b[0m\u001b[1;36m0\u001b[0m\u001b[1;33m)\u001b[0m\u001b[1;33m,\u001b[0m\u001b[1;33m(\u001b[0m\u001b[1;36m8\u001b[0m\u001b[1;33m,\u001b[0m\u001b[1;36m9\u001b[0m\u001b[1;33m)\u001b[0m\u001b[1;33m)\u001b[0m\u001b[1;33m\u001b[0m\u001b[1;33m\u001b[0m\u001b[0m\n\u001b[0m",
      "\u001b[1;32m<ipython-input-299-bc9fca9e8216>\u001b[0m in \u001b[0;36maStar\u001b[1;34m(matriz, atualPos, fimPos)\u001b[0m\n\u001b[0;32m     53\u001b[0m \u001b[1;33m\u001b[0m\u001b[0m\n\u001b[0;32m     54\u001b[0m     \u001b[0matual\u001b[0m \u001b[1;33m=\u001b[0m \u001b[0mbuscaMenorF\u001b[0m\u001b[1;33m(\u001b[0m\u001b[0mlstAberta\u001b[0m\u001b[1;33m)\u001b[0m\u001b[1;33m\u001b[0m\u001b[1;33m\u001b[0m\u001b[0m\n\u001b[1;32m---> 55\u001b[1;33m     \u001b[0mcaminho\u001b[0m \u001b[1;33m=\u001b[0m \u001b[0mcaminho\u001b[0m\u001b[1;33m(\u001b[0m\u001b[0matual\u001b[0m\u001b[1;33m,\u001b[0m \u001b[0minicio\u001b[0m\u001b[1;33m)\u001b[0m\u001b[1;33m\u001b[0m\u001b[1;33m\u001b[0m\u001b[0m\n\u001b[0m\u001b[0;32m     56\u001b[0m     \u001b[0mcaminho\u001b[0m\u001b[1;33m.\u001b[0m\u001b[0mreverse\u001b[0m\u001b[1;33m(\u001b[0m\u001b[1;33m)\u001b[0m\u001b[1;33m\u001b[0m\u001b[1;33m\u001b[0m\u001b[0m\n\u001b[0;32m     57\u001b[0m \u001b[1;33m\u001b[0m\u001b[0m\n",
      "\u001b[1;31mTypeError\u001b[0m: 'list' object is not callable"
     ]
    }
   ],
   "source": [
    "atualPos = (0,0)\n",
    "fimPos = (8,9)\n",
    "a = aStar(mapa,(0,0),(8,9))\n"
   ]
  },
  {
   "cell_type": "code",
   "execution_count": 248,
   "metadata": {},
   "outputs": [
    {
     "name": "stdout",
     "output_type": "stream",
     "text": [
      "<function caminho at 0x0000025925DDA7B8>\n"
     ]
    },
    {
     "ename": "TypeError",
     "evalue": "'function' object is not iterable",
     "output_type": "error",
     "traceback": [
      "\u001b[1;31m---------------------------------------------------------------------------\u001b[0m",
      "\u001b[1;31mTypeError\u001b[0m                                 Traceback (most recent call last)",
      "\u001b[1;32m<ipython-input-248-8fd020c27ad1>\u001b[0m in \u001b[0;36m<module>\u001b[1;34m\u001b[0m\n\u001b[0;32m      1\u001b[0m \u001b[1;33m\u001b[0m\u001b[0m\n\u001b[0;32m      2\u001b[0m \u001b[1;33m\u001b[0m\u001b[0m\n\u001b[1;32m----> 3\u001b[1;33m \u001b[0mprintaMatriz\u001b[0m\u001b[1;33m(\u001b[0m\u001b[0mdesenhaCaminho\u001b[0m\u001b[1;33m(\u001b[0m\u001b[0mmapa\u001b[0m\u001b[1;33m,\u001b[0m\u001b[0mcaminho\u001b[0m\u001b[1;33m)\u001b[0m\u001b[1;33m)\u001b[0m\u001b[1;33m\u001b[0m\u001b[1;33m\u001b[0m\u001b[0m\n\u001b[0m",
      "\u001b[1;32m<ipython-input-247-7895977c04fb>\u001b[0m in \u001b[0;36mdesenhaCaminho\u001b[1;34m(matriz, caminho)\u001b[0m\n\u001b[0;32m      1\u001b[0m \u001b[1;32mdef\u001b[0m \u001b[0mdesenhaCaminho\u001b[0m\u001b[1;33m(\u001b[0m\u001b[0mmatriz\u001b[0m\u001b[1;33m,\u001b[0m \u001b[0mcaminho\u001b[0m\u001b[1;33m)\u001b[0m\u001b[1;33m:\u001b[0m\u001b[1;33m\u001b[0m\u001b[1;33m\u001b[0m\u001b[0m\n\u001b[0;32m      2\u001b[0m     \u001b[0mprint\u001b[0m\u001b[1;33m(\u001b[0m\u001b[0mcaminho\u001b[0m\u001b[1;33m)\u001b[0m\u001b[1;33m\u001b[0m\u001b[1;33m\u001b[0m\u001b[0m\n\u001b[1;32m----> 3\u001b[1;33m     \u001b[1;32mfor\u001b[0m \u001b[0mitem\u001b[0m \u001b[1;32min\u001b[0m \u001b[0mcaminho\u001b[0m\u001b[1;33m:\u001b[0m\u001b[1;33m\u001b[0m\u001b[1;33m\u001b[0m\u001b[0m\n\u001b[0m\u001b[0;32m      4\u001b[0m         \u001b[0mmatriz\u001b[0m\u001b[1;33m[\u001b[0m\u001b[0mitem\u001b[0m\u001b[1;33m[\u001b[0m\u001b[1;36m0\u001b[0m\u001b[1;33m]\u001b[0m\u001b[1;33m]\u001b[0m\u001b[1;33m[\u001b[0m\u001b[0mitem\u001b[0m\u001b[1;33m[\u001b[0m\u001b[1;36m1\u001b[0m\u001b[1;33m]\u001b[0m\u001b[1;33m]\u001b[0m \u001b[1;33m=\u001b[0m \u001b[1;34m'*'\u001b[0m\u001b[1;33m\u001b[0m\u001b[1;33m\u001b[0m\u001b[0m\n\u001b[0;32m      5\u001b[0m     \u001b[1;32mreturn\u001b[0m \u001b[0mmatriz\u001b[0m\u001b[1;33m\u001b[0m\u001b[1;33m\u001b[0m\u001b[0m\n",
      "\u001b[1;31mTypeError\u001b[0m: 'function' object is not iterable"
     ]
    }
   ],
   "source": [
    "\n",
    "\n",
    "printaMatriz(desenhaCaminho(mapa,caminho)) "
   ]
  },
  {
   "cell_type": "code",
   "execution_count": null,
   "metadata": {},
   "outputs": [],
   "source": []
  },
  {
   "cell_type": "code",
   "execution_count": null,
   "metadata": {},
   "outputs": [],
   "source": []
  },
  {
   "cell_type": "code",
   "execution_count": 120,
   "metadata": {},
   "outputs": [],
   "source": [
    "\n",
    " tempo_inicial = time.time() "
   ]
  },
  {
   "cell_type": "code",
   "execution_count": 166,
   "metadata": {},
   "outputs": [
    {
     "name": "stdout",
     "output_type": "stream",
     "text": [
      "<function caminho at 0x00000259255CD0D0>\n",
      "\n",
      "--- 2097.531302690506 segundos ---\n"
     ]
    }
   ],
   "source": [
    "print(caminho)\n",
    "print(\"\\n--- %s segundos ---\" % (time.time() - tempo_inicial))\n"
   ]
  },
  {
   "cell_type": "code",
   "execution_count": null,
   "metadata": {},
   "outputs": [],
   "source": []
  },
  {
   "cell_type": "code",
   "execution_count": null,
   "metadata": {},
   "outputs": [],
   "source": []
  },
  {
   "cell_type": "code",
   "execution_count": null,
   "metadata": {},
   "outputs": [],
   "source": []
  }
 ],
 "metadata": {
  "kernelspec": {
   "display_name": "Python 3",
   "language": "python",
   "name": "python3"
  },
  "language_info": {
   "codemirror_mode": {
    "name": "ipython",
    "version": 3
   },
   "file_extension": ".py",
   "mimetype": "text/x-python",
   "name": "python",
   "nbconvert_exporter": "python",
   "pygments_lexer": "ipython3",
   "version": "3.7.3"
  }
 },
 "nbformat": 4,
 "nbformat_minor": 2
}
